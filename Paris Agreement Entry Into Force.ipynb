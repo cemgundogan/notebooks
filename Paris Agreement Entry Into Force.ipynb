{
 "cells": [
  {
   "cell_type": "markdown",
   "metadata": {},
   "source": [
    "# Paris Agreement: Entry Into Force"
   ]
  },
  {
   "cell_type": "code",
   "execution_count": 1,
   "metadata": {
    "collapsed": false
   },
   "outputs": [],
   "source": [
    "%matplotlib inline"
   ]
  },
  {
   "cell_type": "code",
   "execution_count": 2,
   "metadata": {
    "collapsed": false
   },
   "outputs": [
    {
     "name": "stderr",
     "output_type": "stream",
     "text": [
      "/home/robert/.virtualenvs/notebooks/lib/python3.4/site-packages/IPython/html.py:14: ShimWarning: The `IPython.html` package has been deprecated. You should import from `notebook` instead. `IPython.html.widgets` has moved to `ipywidgets`.\n",
      "  \"`IPython.html.widgets` has moved to `ipywidgets`.\", ShimWarning)\n"
     ]
    }
   ],
   "source": [
    "import matplotlib.pyplot as plt\n",
    "import seaborn\n",
    "from pandas_datapackage_reader import read_datapackage"
   ]
  },
  {
   "cell_type": "markdown",
   "metadata": {},
   "source": [
    "Reading in the [data package](https://github.com/openclimatedata/paris-agreement-entry-into-force) with ratification status of the Paris Agreement."
   ]
  },
  {
   "cell_type": "code",
   "execution_count": 3,
   "metadata": {
    "collapsed": false
   },
   "outputs": [],
   "source": [
    "eif = read_datapackage(\"https://github.com/openclimatedata/paris-agreement-entry-into-force\")"
   ]
  },
  {
   "cell_type": "code",
   "execution_count": 4,
   "metadata": {
    "collapsed": false,
    "scrolled": true
   },
   "outputs": [
    {
     "data": {
      "text/html": [
       "<div>\n",
       "<table border=\"1\" class=\"dataframe\">\n",
       "  <thead>\n",
       "    <tr style=\"text-align: right;\">\n",
       "      <th></th>\n",
       "      <th>Name</th>\n",
       "      <th>Signature</th>\n",
       "      <th>Ratification-Acceptance-Approval</th>\n",
       "      <th>Emissions</th>\n",
       "      <th>Percentage</th>\n",
       "      <th>Year</th>\n",
       "    </tr>\n",
       "    <tr>\n",
       "      <th>Country Code</th>\n",
       "      <th></th>\n",
       "      <th></th>\n",
       "      <th></th>\n",
       "      <th></th>\n",
       "      <th></th>\n",
       "      <th></th>\n",
       "    </tr>\n",
       "  </thead>\n",
       "  <tbody>\n",
       "    <tr>\n",
       "      <th>AFG</th>\n",
       "      <td>Afghanistan</td>\n",
       "      <td>2016-04-22</td>\n",
       "      <td>NaT</td>\n",
       "      <td>19328.0</td>\n",
       "      <td>0.05</td>\n",
       "      <td>2005</td>\n",
       "    </tr>\n",
       "    <tr>\n",
       "      <th>ALB</th>\n",
       "      <td>Albania</td>\n",
       "      <td>2016-04-22</td>\n",
       "      <td>NaT</td>\n",
       "      <td>6717.0</td>\n",
       "      <td>0.02</td>\n",
       "      <td>2000</td>\n",
       "    </tr>\n",
       "    <tr>\n",
       "      <th>DZA</th>\n",
       "      <td>Algeria</td>\n",
       "      <td>2016-04-22</td>\n",
       "      <td>NaT</td>\n",
       "      <td>111023.0</td>\n",
       "      <td>0.30</td>\n",
       "      <td>2000</td>\n",
       "    </tr>\n",
       "    <tr>\n",
       "      <th>AND</th>\n",
       "      <td>Andorra</td>\n",
       "      <td>2016-04-22</td>\n",
       "      <td>NaT</td>\n",
       "      <td>522.0</td>\n",
       "      <td>0.00</td>\n",
       "      <td>2011</td>\n",
       "    </tr>\n",
       "    <tr>\n",
       "      <th>AGO</th>\n",
       "      <td>Angola</td>\n",
       "      <td>2016-04-22</td>\n",
       "      <td>NaT</td>\n",
       "      <td>61611.0</td>\n",
       "      <td>0.17</td>\n",
       "      <td>2005</td>\n",
       "    </tr>\n",
       "  </tbody>\n",
       "</table>\n",
       "</div>"
      ],
      "text/plain": [
       "                     Name  Signature Ratification-Acceptance-Approval  \\\n",
       "Country Code                                                            \n",
       "AFG           Afghanistan 2016-04-22                              NaT   \n",
       "ALB               Albania 2016-04-22                              NaT   \n",
       "DZA               Algeria 2016-04-22                              NaT   \n",
       "AND               Andorra 2016-04-22                              NaT   \n",
       "AGO                Angola 2016-04-22                              NaT   \n",
       "\n",
       "              Emissions  Percentage  Year  \n",
       "Country Code                               \n",
       "AFG             19328.0        0.05  2005  \n",
       "ALB              6717.0        0.02  2000  \n",
       "DZA            111023.0        0.30  2000  \n",
       "AND               522.0        0.00  2011  \n",
       "AGO             61611.0        0.17  2005  "
      ]
     },
     "execution_count": 4,
     "metadata": {},
     "output_type": "execute_result"
    }
   ],
   "source": [
    "eif.head()"
   ]
  },
  {
   "cell_type": "code",
   "execution_count": 5,
   "metadata": {
    "collapsed": false
   },
   "outputs": [
    {
     "data": {
      "text/plain": [
       "Name                                197\n",
       "Signature                           180\n",
       "Ratification-Acceptance-Approval     22\n",
       "Emissions                           191\n",
       "Percentage                          191\n",
       "Year                                191\n",
       "dtype: int64"
      ]
     },
     "execution_count": 5,
     "metadata": {},
     "output_type": "execute_result"
    }
   ],
   "source": [
    "eif.count()"
   ]
  },
  {
   "cell_type": "markdown",
   "metadata": {},
   "source": [
    "The European Union is contained as a block and as single parties so we remove the individual parties."
   ]
  },
  {
   "cell_type": "code",
   "execution_count": 6,
   "metadata": {
    "collapsed": false
   },
   "outputs": [],
   "source": [
    "eu28 = [\n",
    "  'BEL',\n",
    "  'BGR',\n",
    "  'DNK',\n",
    "  'DEU',\n",
    "  'EST',\n",
    "  'FIN',\n",
    "  'FRA',\n",
    "  'GRC',\n",
    "  'IRL',\n",
    "  'ITA',\n",
    "  'HRV',\n",
    "  'LVA',\n",
    "  'LTU',\n",
    "  'LUX',\n",
    "  'MLT',\n",
    "  'NLD',\n",
    "  'AUT',\n",
    "  'POL',\n",
    "  'PRT',\n",
    "  'ROU',\n",
    "  'SWE',\n",
    "  'SVK',\n",
    "  'SVN',\n",
    "  'ESP',\n",
    "  'CZE',\n",
    "  'HUN',\n",
    "  'GBR',\n",
    "  'CYP'\n",
    "]\n",
    "assert(len(eu28) == 28)"
   ]
  },
  {
   "cell_type": "code",
   "execution_count": 7,
   "metadata": {
    "collapsed": false
   },
   "outputs": [],
   "source": [
    "parties = eif.drop(eu28)"
   ]
  },
  {
   "cell_type": "markdown",
   "metadata": {},
   "source": [
    "For the emissions shares the last available data submitted to the UNFCCC was used."
   ]
  },
  {
   "cell_type": "code",
   "execution_count": 8,
   "metadata": {
    "collapsed": false
   },
   "outputs": [
    {
     "data": {
      "text/plain": [
       "<matplotlib.text.Text at 0x7fb11417a518>"
      ]
     },
     "execution_count": 8,
     "metadata": {},
     "output_type": "execute_result"
    },
    {
     "data": {
      "image/png": "[encoded data removed]",
      "text/plain": [
       "<matplotlib.figure.Figure at 0x7fb11422efd0>"
      ]
     },
     "metadata": {},
     "output_type": "display_data"
    }
   ],
   "source": [
    "parties.Year.hist(bins=25 )\n",
    "plt.title(\"Distribution of submission years\")"
   ]
  },
  {
   "cell_type": "markdown",
   "metadata": {},
   "source": [
    "And a look at how emissions are distributed, many countries with small shares."
   ]
  },
  {
   "cell_type": "code",
   "execution_count": 9,
   "metadata": {
    "collapsed": false
   },
   "outputs": [
    {
     "data": {
      "text/plain": [
       "<matplotlib.text.Text at 0x7fb111ebedd8>"
      ]
     },
     "execution_count": 9,
     "metadata": {},
     "output_type": "execute_result"
    },
    {
     "data": {
      "image/png": "[encoded data removed]",
      "text/plain": [
       "<matplotlib.figure.Figure at 0x7fb1140b0470>"
      ]
     },
     "metadata": {},
     "output_type": "display_data"
    }
   ],
   "source": [
    "parties.Percentage.hist(bins=20)\n",
    "plt.title(\"Distribution of emissions shares for Entry Into Force\")"
   ]
  },
  {
   "cell_type": "code",
   "execution_count": 10,
   "metadata": {
    "collapsed": false
   },
   "outputs": [],
   "source": [
    "not_ratified = parties[parties[\"Ratification-Acceptance-Approval\"].isnull() != False]\n",
    "ratified = parties[parties[\"Ratification-Acceptance-Approval\"].isnull() == False]"
   ]
  },
  {
   "cell_type": "code",
   "execution_count": 11,
   "metadata": {
    "collapsed": false
   },
   "outputs": [
    {
     "name": "stdout",
     "output_type": "stream",
     "text": [
      "1.08\n"
     ]
    }
   ],
   "source": [
    "print(ratified.Percentage.sum())"
   ]
  },
  {
   "cell_type": "markdown",
   "metadata": {},
   "source": [
    "The first four biggest emitters who have not ratified yet would be enough to meet the 55% condition."
   ]
  },
  {
   "cell_type": "code",
   "execution_count": 12,
   "metadata": {
    "collapsed": false
   },
   "outputs": [
    {
     "name": "stdout",
     "output_type": "stream",
     "text": [
      "57.61\n"
     ]
    }
   ],
   "source": [
    "print(not_ratified.sort_values(\"Percentage\", ascending=False).head(4).Percentage.sum())"
   ]
  },
  {
   "cell_type": "code",
   "execution_count": null,
   "metadata": {
    "collapsed": true
   },
   "outputs": [],
   "source": []
  }
 ],
 "metadata": {
  "kernelspec": {
   "display_name": "Python 3",
   "language": "python",
   "name": "python3"
  },
  "language_info": {
   "codemirror_mode": {
    "name": "ipython",
    "version": 3
   },
   "file_extension": ".py",
   "mimetype": "text/x-python",
   "name": "python",
   "nbconvert_exporter": "python",
   "pygments_lexer": "ipython3",
   "version": "3.4.3+"
  }
 },
 "nbformat": 4,
 "nbformat_minor": 0
}
