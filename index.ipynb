{
 "cells": [
  {
   "cell_type": "markdown",
   "metadata": {},
   "source": [
    "# Open Climate Date Example Notebooks"
   ]
  },
  {
   "cell_type": "markdown",
   "metadata": {},
   "source": [
    "## Global Carbon Budget\n",
    "\n",
    "[Fossil Fuel and Cement Production](Global Carbon Budget | Fossil Fuel and Cement Production.ipynb)\n",
    "\n",
    "[Territorial and Consumption Emissions](Global Carbon Budget | Territorial and Consumption Emissions.ipynb)"
   ]
  },
  {
   "cell_type": "markdown",
   "metadata": {},
   "source": [
    "## Treaties\n",
    "\n",
    "[Paris Agreement - Entry Into Force](Paris Agreement Entry Into Force.ipynb)\n",
    "\n",
    "[Paris Agreement and Doha Amendment](Doha Amendment to the Kyoto Protocol.ipynb)"
   ]
  }
 ],
 "metadata": {
  "kernelspec": {
   "display_name": "Python 3",
   "language": "python",
   "name": "python3"
  },
  "language_info": {
   "codemirror_mode": {
    "name": "ipython",
    "version": 3
   },
   "file_extension": ".py",
   "mimetype": "text/x-python",
   "name": "python",
   "nbconvert_exporter": "python",
   "pygments_lexer": "ipython3",
   "version": "3.6.1"
  }
 },
 "nbformat": 4,
 "nbformat_minor": 1
}
