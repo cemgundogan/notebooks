{
 "cells": [
  {
   "cell_type": "markdown",
   "metadata": {},
   "source": [
    "# Open Climate Date Example Notebooks"
   ]
  },
  {
   "cell_type": "markdown",
   "metadata": {},
   "source": [
    "## Global Carbon Budget\n",
    "\n",
    "[Fossil Fuel and Cement Production](Global%20Carbon%20Budget%20|%20Fossil%20Fuel%20and%20Cement%20Production.ipynb)\n",
    "\n",
    "[Territorial and Consumption Emissions](Global%20Carbon%20Budget%20|%20Territorial%20and%20Consumption%20Emissions.ipynb)"
   ]
  },
  {
   "cell_type": "markdown",
   "metadata": {},
   "source": [
    "## Treaties\n",
    "\n",
    "[Paris Agreement - Entry Into Force](Paris%20Agreement%20Entry%20Into%20Force.ipynb)\n",
    "\n",
    "[Paris Agreement and Doha Amendment](Doha%20Amendment%20to%20the%20Kyoto%20Protocol.ipynb)"
   ]
  },
  {
   "cell_type": "markdown",
   "metadata": {},
   "source": [
    "## EDGAR emissions data\n",
    "\n",
    "[EDGAR CO2 emissions](EDGAR%20CO2%20Emissions.ipynb)"
   ]
  }
 ],
 "metadata": {
  "kernelspec": {
   "display_name": "Python 3",
   "language": "python",
   "name": "python3"
  },
  "language_info": {
   "codemirror_mode": {
    "name": "ipython",
    "version": 3
   },
   "file_extension": ".py",
   "mimetype": "text/x-python",
   "name": "python",
   "nbconvert_exporter": "python",
   "pygments_lexer": "ipython3",
   "version": "3.7.3"
  }
 },
 "nbformat": 4,
 "nbformat_minor": 1
}
